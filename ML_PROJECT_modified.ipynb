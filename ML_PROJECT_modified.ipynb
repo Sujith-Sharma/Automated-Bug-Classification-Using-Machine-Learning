{
 "cells": [
  {
   "cell_type": "code",
   "execution_count": 2,
   "metadata": {
    "id": "zXhssK-PSvo4"
   },
   "outputs": [],
   "source": [
    "import pandas as pd\n",
    "import numpy as np\n",
    "from sklearn.model_selection import train_test_split\n",
    "from sklearn.preprocessing import LabelEncoder\n",
    "import seaborn as sns\n",
    "import matplotlib.pyplot as plt\n",
    "from sklearn.feature_selection import SelectKBest, f_classif\n",
    "from sklearn.ensemble import RandomForestClassifier\n",
    "from sklearn.metrics import accuracy_score, classification_report\n",
    "from sklearn.metrics import confusion_matrix, ConfusionMatrixDisplay\n",
    "from sklearn.ensemble import RandomForestClassifier\n",
    "from sklearn.linear_model import LogisticRegression\n",
    "from sklearn.svm import SVC\n",
    "from sklearn.tree import DecisionTreeClassifier\n",
    "from sklearn.metrics import confusion_matrix, classification_report, f1_score, recall_score, precision_score, accuracy_score\n",
    "from imblearn.over_sampling import SMOTE\n",
    "from sklearn.preprocessing import StandardScaler\n",
    "from sklearn.feature_selection import VarianceThreshold, SelectKBest, f_classif\n",
    "from sklearn.feature_selection import VarianceThreshold"
   ]
  },
  {
   "cell_type": "code",
   "execution_count": 3,
   "metadata": {
    "colab": {
     "base_uri": "https://localhost:8080/",
     "height": 373
    },
    "id": "zHa-ZQ13Upjd",
    "outputId": "0b8981a3-7064-4f84-e5cd-a80376a05ce4"
   },
   "outputs": [
    {
     "name": "stdout",
     "output_type": "stream",
     "text": [
      "     Project Owner              Manager  Category         Key Priority  \\\n",
      "0      DERBY   ASF  Apache DB Committee  database  DERBY-4001    Minor   \n",
      "1      DERBY   ASF  Apache DB Committee  database  DERBY-4006    Major   \n",
      "2      DERBY   ASF  Apache DB Committee  database  DERBY-4012    Major   \n",
      "3      DERBY   ASF  Apache DB Committee  database  DERBY-4018    Major   \n",
      "4      DERBY   ASF  Apache DB Committee  database  DERBY-4025    Major   \n",
      "...      ...   ...                  ...       ...         ...      ...   \n",
      "1078   DERBY   ASF  Apache DB Committee  database  DERBY-6981    Major   \n",
      "1079   DERBY   ASF  Apache DB Committee  database  DERBY-6986    Major   \n",
      "1080   DERBY   ASF  Apache DB Committee  database  DERBY-6987    Major   \n",
      "1081   DERBY   ASF  Apache DB Committee  database  DERBY-7016    Major   \n",
      "1082   DERBY   ASF  Apache DB Committee  database  DERBY-7020    Major   \n",
      "\n",
      "        Status        Reporter        Assignee      Components  ...  \\\n",
      "0       Closed           viyer      knutanders             SQL  ...   \n",
      "1       Closed      knutanders  bryanpendleton             SQL  ...   \n",
      "2       Closed      olesolberg        kristwaa            Test  ...   \n",
      "3       Closed       clary2137      knutanders        Services  ...   \n",
      "4       Closed        kristwaa         chaase3   Documentation  ...   \n",
      "...        ...             ...             ...             ...  ...   \n",
      "1078  Resolved   masterchief24  bryanpendleton            JDBC  ...   \n",
      "1079  Resolved  bryanpendleton  bryanpendleton  Network Server  ...   \n",
      "1080  Resolved  bryanpendleton  bryanpendleton  Network Server  ...   \n",
      "1081    Closed       rhillegas       rhillegas   Demos/Scripts  ...   \n",
      "1082    Closed       rhillegas       rhillegas     Build tools  ...   \n",
      "\n",
      "                   LastCommentDate NoWatchers NoAttachments  \\\n",
      "0     2009-04-28T11:43:51.666+0000          0             3   \n",
      "1     2009-01-19T18:09:38.280+0000          0             4   \n",
      "2     2009-01-12T18:40:23.920+0000          0             1   \n",
      "3     2009-07-01T22:29:01.488+0000          0             6   \n",
      "4     2009-01-26T08:11:57.250+0000          0             4   \n",
      "...                            ...        ...           ...   \n",
      "1078  2018-02-08T02:50:05.669+0000          0             5   \n",
      "1079                           NaN          0             1   \n",
      "1080                           NaN          0             1   \n",
      "1081  2018-11-29T22:33:27.333+0000          0             2   \n",
      "1082  2018-11-29T01:51:20.360+0000          0             2   \n",
      "\n",
      "               FirstAttachmentDate            LastAttachmentDate  \\\n",
      "0     2009-04-14T13:36:00.721+0000  2009-04-21T13:30:44.424+0000   \n",
      "1     2009-01-08T17:06:09.484+0000  2009-01-12T18:09:04.118+0000   \n",
      "2     2009-01-09T13:49:18.722+0000  2009-01-09T13:49:18.722+0000   \n",
      "3     2009-01-13T14:48:07.571+0000  2009-06-29T15:14:16.076+0000   \n",
      "4     2009-01-21T21:48:15.835+0000  2009-01-22T21:38:38.600+0000   \n",
      "...                            ...                           ...   \n",
      "1078  2018-01-31T05:24:23.576+0000  2018-02-01T05:32:28.490+0000   \n",
      "1079  2018-03-19T00:38:59.101+0000  2018-03-19T00:38:59.101+0000   \n",
      "1080  2018-03-19T00:45:13.559+0000  2018-03-19T00:45:13.559+0000   \n",
      "1081  2018-11-11T12:49:36.031+0000  2018-11-14T15:42:19.768+0000   \n",
      "1082  2018-11-28T00:09:53.733+0000  2018-11-28T17:42:12.850+0000   \n",
      "\n",
      "     NoAttachedPatches        FirstAttachedPatchDate  \\\n",
      "0                    0                           NaN   \n",
      "1                    1  2009-01-08T21:10:18.132+0000   \n",
      "2                    0                           NaN   \n",
      "3                    0                           NaN   \n",
      "4                    0                           NaN   \n",
      "...                ...                           ...   \n",
      "1078                 1  2018-02-01T05:32:28.490+0000   \n",
      "1079                 0                           NaN   \n",
      "1080                 0                           NaN   \n",
      "1081                 0                           NaN   \n",
      "1082                 0                           NaN   \n",
      "\n",
      "             LastAttachedPatchDate      InwardIssueLinks  \\\n",
      "0                              NaN  Duplicate:DERBY-4385   \n",
      "1     2009-01-08T21:10:18.132+0000                   NaN   \n",
      "2                              NaN                   NaN   \n",
      "3                              NaN                   NaN   \n",
      "4                              NaN    Reference:DERBY-52   \n",
      "...                            ...                   ...   \n",
      "1078  2018-02-01T05:32:28.490+0000                   NaN   \n",
      "1079                           NaN                   NaN   \n",
      "1080                           NaN                   NaN   \n",
      "1081                           NaN                   NaN   \n",
      "1082                           NaN                   NaN   \n",
      "\n",
      "                               OutwardIssueLinks  \n",
      "0                                            NaN  \n",
      "1                                            NaN  \n",
      "2                                            NaN  \n",
      "3                                            NaN  \n",
      "4                                            NaN  \n",
      "...                                          ...  \n",
      "1078                                         NaN  \n",
      "1079                                         NaN  \n",
      "1080                                         NaN  \n",
      "1081                        Reference:DERBY-6945  \n",
      "1082  Reference:DERBY-6945\\nReference:DERBY-7018  \n",
      "\n",
      "[1083 rows x 29 columns]\n"
     ]
    }
   ],
   "source": [
    "# Path to the csv file\n",
    "csv_file = './content/derby-jira-bug-fix-dataset.csv'\n",
    "\n",
    "# Reading the csv file as a dataframe\n",
    "df = pd.read_csv(csv_file)\n",
    "\n",
    "# Displaying the dataframe\n",
    "print(df)"
   ]
  },
  {
   "cell_type": "code",
   "execution_count": 4,
   "metadata": {
    "id": "95Ye3ERAWmyG"
   },
   "outputs": [],
   "source": [
    "#data preprossesing\n",
    "# Drop columns with too many missing values(>)\n",
    "df = df.dropna(axis=1, thresh=len(df) * 0.5)"
   ]
  },
  {
   "cell_type": "code",
   "execution_count": 5,
   "metadata": {
    "colab": {
     "base_uri": "https://localhost:8080/",
     "height": 779
    },
    "id": "9iuW28iRbYRw",
    "outputId": "6ba4bee2-e690-4e7e-f262-c4d092693022"
   },
   "outputs": [
    {
     "data": {
      "text/html": [
       "<div>\n",
       "<style scoped>\n",
       "    .dataframe tbody tr th:only-of-type {\n",
       "        vertical-align: middle;\n",
       "    }\n",
       "\n",
       "    .dataframe tbody tr th {\n",
       "        vertical-align: top;\n",
       "    }\n",
       "\n",
       "    .dataframe thead th {\n",
       "        text-align: right;\n",
       "    }\n",
       "</style>\n",
       "<table border=\"1\" class=\"dataframe\">\n",
       "  <thead>\n",
       "    <tr style=\"text-align: right;\">\n",
       "      <th></th>\n",
       "      <th>Project</th>\n",
       "      <th>Owner</th>\n",
       "      <th>Manager</th>\n",
       "      <th>Category</th>\n",
       "      <th>Key</th>\n",
       "      <th>Priority</th>\n",
       "      <th>Status</th>\n",
       "      <th>Reporter</th>\n",
       "      <th>Assignee</th>\n",
       "      <th>Components</th>\n",
       "      <th>...</th>\n",
       "      <th>AffectsVersions</th>\n",
       "      <th>FixVersions</th>\n",
       "      <th>NoComments</th>\n",
       "      <th>FirstCommentDate</th>\n",
       "      <th>LastCommentDate</th>\n",
       "      <th>NoWatchers</th>\n",
       "      <th>NoAttachments</th>\n",
       "      <th>FirstAttachmentDate</th>\n",
       "      <th>LastAttachmentDate</th>\n",
       "      <th>NoAttachedPatches</th>\n",
       "    </tr>\n",
       "  </thead>\n",
       "  <tbody>\n",
       "    <tr>\n",
       "      <th>0</th>\n",
       "      <td>DERBY</td>\n",
       "      <td>ASF</td>\n",
       "      <td>Apache DB Committee</td>\n",
       "      <td>database</td>\n",
       "      <td>DERBY-4001</td>\n",
       "      <td>Minor</td>\n",
       "      <td>Closed</td>\n",
       "      <td>viyer</td>\n",
       "      <td>knutanders</td>\n",
       "      <td>SQL</td>\n",
       "      <td>...</td>\n",
       "      <td>10.3.2.1</td>\n",
       "      <td>10.6.1.0 10.5.2.0</td>\n",
       "      <td>17</td>\n",
       "      <td>2009-01-05T10:13:54.685+0000</td>\n",
       "      <td>2009-04-28T11:43:51.666+0000</td>\n",
       "      <td>0</td>\n",
       "      <td>3</td>\n",
       "      <td>2009-04-14T13:36:00.721+0000</td>\n",
       "      <td>2009-04-21T13:30:44.424+0000</td>\n",
       "      <td>0</td>\n",
       "    </tr>\n",
       "    <tr>\n",
       "      <th>1</th>\n",
       "      <td>DERBY</td>\n",
       "      <td>ASF</td>\n",
       "      <td>Apache DB Committee</td>\n",
       "      <td>database</td>\n",
       "      <td>DERBY-4006</td>\n",
       "      <td>Major</td>\n",
       "      <td>Closed</td>\n",
       "      <td>knutanders</td>\n",
       "      <td>bryanpendleton</td>\n",
       "      <td>SQL</td>\n",
       "      <td>...</td>\n",
       "      <td>10.4.2.0 10.4.1.3 10.3.3.0 10.3.2.1 10.3.1.4 1...</td>\n",
       "      <td>10.5.1.1 10.4.2.1</td>\n",
       "      <td>20</td>\n",
       "      <td>2009-01-08T12:04:43.214+0000</td>\n",
       "      <td>2009-01-19T18:09:38.280+0000</td>\n",
       "      <td>0</td>\n",
       "      <td>4</td>\n",
       "      <td>2009-01-08T17:06:09.484+0000</td>\n",
       "      <td>2009-01-12T18:09:04.118+0000</td>\n",
       "      <td>1</td>\n",
       "    </tr>\n",
       "    <tr>\n",
       "      <th>2</th>\n",
       "      <td>DERBY</td>\n",
       "      <td>ASF</td>\n",
       "      <td>Apache DB Committee</td>\n",
       "      <td>database</td>\n",
       "      <td>DERBY-4012</td>\n",
       "      <td>Major</td>\n",
       "      <td>Closed</td>\n",
       "      <td>olesolberg</td>\n",
       "      <td>kristwaa</td>\n",
       "      <td>Test</td>\n",
       "      <td>...</td>\n",
       "      <td>10.5.1.1</td>\n",
       "      <td>10.5.1.1</td>\n",
       "      <td>3</td>\n",
       "      <td>2009-01-09T13:38:33.741+0000</td>\n",
       "      <td>2009-01-12T18:40:23.920+0000</td>\n",
       "      <td>0</td>\n",
       "      <td>1</td>\n",
       "      <td>2009-01-09T13:49:18.722+0000</td>\n",
       "      <td>2009-01-09T13:49:18.722+0000</td>\n",
       "      <td>0</td>\n",
       "    </tr>\n",
       "    <tr>\n",
       "      <th>3</th>\n",
       "      <td>DERBY</td>\n",
       "      <td>ASF</td>\n",
       "      <td>Apache DB Committee</td>\n",
       "      <td>database</td>\n",
       "      <td>DERBY-4018</td>\n",
       "      <td>Major</td>\n",
       "      <td>Closed</td>\n",
       "      <td>clary2137</td>\n",
       "      <td>knutanders</td>\n",
       "      <td>Services</td>\n",
       "      <td>...</td>\n",
       "      <td>10.4.2.0</td>\n",
       "      <td>10.6.1.0 10.5.2.0</td>\n",
       "      <td>11</td>\n",
       "      <td>2009-01-13T14:48:07.608+0000</td>\n",
       "      <td>2009-07-01T22:29:01.488+0000</td>\n",
       "      <td>0</td>\n",
       "      <td>6</td>\n",
       "      <td>2009-01-13T14:48:07.571+0000</td>\n",
       "      <td>2009-06-29T15:14:16.076+0000</td>\n",
       "      <td>0</td>\n",
       "    </tr>\n",
       "    <tr>\n",
       "      <th>4</th>\n",
       "      <td>DERBY</td>\n",
       "      <td>ASF</td>\n",
       "      <td>Apache DB Committee</td>\n",
       "      <td>database</td>\n",
       "      <td>DERBY-4025</td>\n",
       "      <td>Major</td>\n",
       "      <td>Closed</td>\n",
       "      <td>kristwaa</td>\n",
       "      <td>chaase3</td>\n",
       "      <td>Documentation</td>\n",
       "      <td>...</td>\n",
       "      <td>10.5.1.1</td>\n",
       "      <td>10.5.1.1</td>\n",
       "      <td>7</td>\n",
       "      <td>2009-01-21T21:48:15.873+0000</td>\n",
       "      <td>2009-01-26T08:11:57.250+0000</td>\n",
       "      <td>0</td>\n",
       "      <td>4</td>\n",
       "      <td>2009-01-21T21:48:15.835+0000</td>\n",
       "      <td>2009-01-22T21:38:38.600+0000</td>\n",
       "      <td>0</td>\n",
       "    </tr>\n",
       "    <tr>\n",
       "      <th>...</th>\n",
       "      <td>...</td>\n",
       "      <td>...</td>\n",
       "      <td>...</td>\n",
       "      <td>...</td>\n",
       "      <td>...</td>\n",
       "      <td>...</td>\n",
       "      <td>...</td>\n",
       "      <td>...</td>\n",
       "      <td>...</td>\n",
       "      <td>...</td>\n",
       "      <td>...</td>\n",
       "      <td>...</td>\n",
       "      <td>...</td>\n",
       "      <td>...</td>\n",
       "      <td>...</td>\n",
       "      <td>...</td>\n",
       "      <td>...</td>\n",
       "      <td>...</td>\n",
       "      <td>...</td>\n",
       "      <td>...</td>\n",
       "      <td>...</td>\n",
       "    </tr>\n",
       "    <tr>\n",
       "      <th>1078</th>\n",
       "      <td>DERBY</td>\n",
       "      <td>ASF</td>\n",
       "      <td>Apache DB Committee</td>\n",
       "      <td>database</td>\n",
       "      <td>DERBY-6981</td>\n",
       "      <td>Major</td>\n",
       "      <td>Resolved</td>\n",
       "      <td>masterchief24</td>\n",
       "      <td>bryanpendleton</td>\n",
       "      <td>JDBC</td>\n",
       "      <td>...</td>\n",
       "      <td>10.12.1.1</td>\n",
       "      <td>10.15.1.3</td>\n",
       "      <td>8</td>\n",
       "      <td>2018-01-31T05:26:35.628+0000</td>\n",
       "      <td>2018-02-08T02:50:05.669+0000</td>\n",
       "      <td>0</td>\n",
       "      <td>5</td>\n",
       "      <td>2018-01-31T05:24:23.576+0000</td>\n",
       "      <td>2018-02-01T05:32:28.490+0000</td>\n",
       "      <td>1</td>\n",
       "    </tr>\n",
       "    <tr>\n",
       "      <th>1079</th>\n",
       "      <td>DERBY</td>\n",
       "      <td>ASF</td>\n",
       "      <td>Apache DB Committee</td>\n",
       "      <td>database</td>\n",
       "      <td>DERBY-6986</td>\n",
       "      <td>Major</td>\n",
       "      <td>Resolved</td>\n",
       "      <td>bryanpendleton</td>\n",
       "      <td>bryanpendleton</td>\n",
       "      <td>Network Server</td>\n",
       "      <td>...</td>\n",
       "      <td>10.14.1.0</td>\n",
       "      <td>10.14.2.0</td>\n",
       "      <td>0</td>\n",
       "      <td>NaN</td>\n",
       "      <td>NaN</td>\n",
       "      <td>0</td>\n",
       "      <td>1</td>\n",
       "      <td>2018-03-19T00:38:59.101+0000</td>\n",
       "      <td>2018-03-19T00:38:59.101+0000</td>\n",
       "      <td>0</td>\n",
       "    </tr>\n",
       "    <tr>\n",
       "      <th>1080</th>\n",
       "      <td>DERBY</td>\n",
       "      <td>ASF</td>\n",
       "      <td>Apache DB Committee</td>\n",
       "      <td>database</td>\n",
       "      <td>DERBY-6987</td>\n",
       "      <td>Major</td>\n",
       "      <td>Resolved</td>\n",
       "      <td>bryanpendleton</td>\n",
       "      <td>bryanpendleton</td>\n",
       "      <td>Network Server</td>\n",
       "      <td>...</td>\n",
       "      <td>10.14.1.0</td>\n",
       "      <td>10.14.2.0</td>\n",
       "      <td>0</td>\n",
       "      <td>NaN</td>\n",
       "      <td>NaN</td>\n",
       "      <td>0</td>\n",
       "      <td>1</td>\n",
       "      <td>2018-03-19T00:45:13.559+0000</td>\n",
       "      <td>2018-03-19T00:45:13.559+0000</td>\n",
       "      <td>0</td>\n",
       "    </tr>\n",
       "    <tr>\n",
       "      <th>1081</th>\n",
       "      <td>DERBY</td>\n",
       "      <td>ASF</td>\n",
       "      <td>Apache DB Committee</td>\n",
       "      <td>database</td>\n",
       "      <td>DERBY-7016</td>\n",
       "      <td>Major</td>\n",
       "      <td>Closed</td>\n",
       "      <td>rhillegas</td>\n",
       "      <td>rhillegas</td>\n",
       "      <td>Demos/Scripts</td>\n",
       "      <td>...</td>\n",
       "      <td>10.15.1.3</td>\n",
       "      <td>10.15.1.3</td>\n",
       "      <td>11</td>\n",
       "      <td>2018-11-11T12:49:59.731+0000</td>\n",
       "      <td>2018-11-29T22:33:27.333+0000</td>\n",
       "      <td>0</td>\n",
       "      <td>2</td>\n",
       "      <td>2018-11-11T12:49:36.031+0000</td>\n",
       "      <td>2018-11-14T15:42:19.768+0000</td>\n",
       "      <td>0</td>\n",
       "    </tr>\n",
       "    <tr>\n",
       "      <th>1082</th>\n",
       "      <td>DERBY</td>\n",
       "      <td>ASF</td>\n",
       "      <td>Apache DB Committee</td>\n",
       "      <td>database</td>\n",
       "      <td>DERBY-7020</td>\n",
       "      <td>Major</td>\n",
       "      <td>Closed</td>\n",
       "      <td>rhillegas</td>\n",
       "      <td>rhillegas</td>\n",
       "      <td>Build tools</td>\n",
       "      <td>...</td>\n",
       "      <td>10.15.1.3</td>\n",
       "      <td>10.15.1.3</td>\n",
       "      <td>5</td>\n",
       "      <td>2018-11-28T00:10:21.014+0000</td>\n",
       "      <td>2018-11-29T01:51:20.360+0000</td>\n",
       "      <td>0</td>\n",
       "      <td>2</td>\n",
       "      <td>2018-11-28T00:09:53.733+0000</td>\n",
       "      <td>2018-11-28T17:42:12.850+0000</td>\n",
       "      <td>0</td>\n",
       "    </tr>\n",
       "  </tbody>\n",
       "</table>\n",
       "<p>1083 rows × 25 columns</p>\n",
       "</div>"
      ],
      "text/plain": [
       "     Project Owner              Manager  Category         Key Priority  \\\n",
       "0      DERBY   ASF  Apache DB Committee  database  DERBY-4001    Minor   \n",
       "1      DERBY   ASF  Apache DB Committee  database  DERBY-4006    Major   \n",
       "2      DERBY   ASF  Apache DB Committee  database  DERBY-4012    Major   \n",
       "3      DERBY   ASF  Apache DB Committee  database  DERBY-4018    Major   \n",
       "4      DERBY   ASF  Apache DB Committee  database  DERBY-4025    Major   \n",
       "...      ...   ...                  ...       ...         ...      ...   \n",
       "1078   DERBY   ASF  Apache DB Committee  database  DERBY-6981    Major   \n",
       "1079   DERBY   ASF  Apache DB Committee  database  DERBY-6986    Major   \n",
       "1080   DERBY   ASF  Apache DB Committee  database  DERBY-6987    Major   \n",
       "1081   DERBY   ASF  Apache DB Committee  database  DERBY-7016    Major   \n",
       "1082   DERBY   ASF  Apache DB Committee  database  DERBY-7020    Major   \n",
       "\n",
       "        Status        Reporter        Assignee      Components  ...  \\\n",
       "0       Closed           viyer      knutanders             SQL  ...   \n",
       "1       Closed      knutanders  bryanpendleton             SQL  ...   \n",
       "2       Closed      olesolberg        kristwaa            Test  ...   \n",
       "3       Closed       clary2137      knutanders        Services  ...   \n",
       "4       Closed        kristwaa         chaase3   Documentation  ...   \n",
       "...        ...             ...             ...             ...  ...   \n",
       "1078  Resolved   masterchief24  bryanpendleton            JDBC  ...   \n",
       "1079  Resolved  bryanpendleton  bryanpendleton  Network Server  ...   \n",
       "1080  Resolved  bryanpendleton  bryanpendleton  Network Server  ...   \n",
       "1081    Closed       rhillegas       rhillegas   Demos/Scripts  ...   \n",
       "1082    Closed       rhillegas       rhillegas     Build tools  ...   \n",
       "\n",
       "                                        AffectsVersions        FixVersions  \\\n",
       "0                                              10.3.2.1  10.6.1.0 10.5.2.0   \n",
       "1     10.4.2.0 10.4.1.3 10.3.3.0 10.3.2.1 10.3.1.4 1...  10.5.1.1 10.4.2.1   \n",
       "2                                              10.5.1.1           10.5.1.1   \n",
       "3                                              10.4.2.0  10.6.1.0 10.5.2.0   \n",
       "4                                              10.5.1.1           10.5.1.1   \n",
       "...                                                 ...                ...   \n",
       "1078                                          10.12.1.1          10.15.1.3   \n",
       "1079                                          10.14.1.0          10.14.2.0   \n",
       "1080                                          10.14.1.0          10.14.2.0   \n",
       "1081                                          10.15.1.3          10.15.1.3   \n",
       "1082                                          10.15.1.3          10.15.1.3   \n",
       "\n",
       "     NoComments              FirstCommentDate               LastCommentDate  \\\n",
       "0            17  2009-01-05T10:13:54.685+0000  2009-04-28T11:43:51.666+0000   \n",
       "1            20  2009-01-08T12:04:43.214+0000  2009-01-19T18:09:38.280+0000   \n",
       "2             3  2009-01-09T13:38:33.741+0000  2009-01-12T18:40:23.920+0000   \n",
       "3            11  2009-01-13T14:48:07.608+0000  2009-07-01T22:29:01.488+0000   \n",
       "4             7  2009-01-21T21:48:15.873+0000  2009-01-26T08:11:57.250+0000   \n",
       "...         ...                           ...                           ...   \n",
       "1078          8  2018-01-31T05:26:35.628+0000  2018-02-08T02:50:05.669+0000   \n",
       "1079          0                           NaN                           NaN   \n",
       "1080          0                           NaN                           NaN   \n",
       "1081         11  2018-11-11T12:49:59.731+0000  2018-11-29T22:33:27.333+0000   \n",
       "1082          5  2018-11-28T00:10:21.014+0000  2018-11-29T01:51:20.360+0000   \n",
       "\n",
       "     NoWatchers NoAttachments           FirstAttachmentDate  \\\n",
       "0             0             3  2009-04-14T13:36:00.721+0000   \n",
       "1             0             4  2009-01-08T17:06:09.484+0000   \n",
       "2             0             1  2009-01-09T13:49:18.722+0000   \n",
       "3             0             6  2009-01-13T14:48:07.571+0000   \n",
       "4             0             4  2009-01-21T21:48:15.835+0000   \n",
       "...         ...           ...                           ...   \n",
       "1078          0             5  2018-01-31T05:24:23.576+0000   \n",
       "1079          0             1  2018-03-19T00:38:59.101+0000   \n",
       "1080          0             1  2018-03-19T00:45:13.559+0000   \n",
       "1081          0             2  2018-11-11T12:49:36.031+0000   \n",
       "1082          0             2  2018-11-28T00:09:53.733+0000   \n",
       "\n",
       "                LastAttachmentDate NoAttachedPatches  \n",
       "0     2009-04-21T13:30:44.424+0000                 0  \n",
       "1     2009-01-12T18:09:04.118+0000                 1  \n",
       "2     2009-01-09T13:49:18.722+0000                 0  \n",
       "3     2009-06-29T15:14:16.076+0000                 0  \n",
       "4     2009-01-22T21:38:38.600+0000                 0  \n",
       "...                            ...               ...  \n",
       "1078  2018-02-01T05:32:28.490+0000                 1  \n",
       "1079  2018-03-19T00:38:59.101+0000                 0  \n",
       "1080  2018-03-19T00:45:13.559+0000                 0  \n",
       "1081  2018-11-14T15:42:19.768+0000                 0  \n",
       "1082  2018-11-28T17:42:12.850+0000                 0  \n",
       "\n",
       "[1083 rows x 25 columns]"
      ]
     },
     "execution_count": 5,
     "metadata": {},
     "output_type": "execute_result"
    }
   ],
   "source": [
    "df"
   ]
  },
  {
   "cell_type": "code",
   "execution_count": 6,
   "metadata": {
    "colab": {
     "base_uri": "https://localhost:8080/",
     "height": 423
    },
    "id": "LoU21xaVbfRK",
    "outputId": "4b7825ed-cb21-4f36-fc44-6b86fb5e5baa"
   },
   "outputs": [
    {
     "data": {
      "text/html": [
       "<div>\n",
       "<style scoped>\n",
       "    .dataframe tbody tr th:only-of-type {\n",
       "        vertical-align: middle;\n",
       "    }\n",
       "\n",
       "    .dataframe tbody tr th {\n",
       "        vertical-align: top;\n",
       "    }\n",
       "\n",
       "    .dataframe thead th {\n",
       "        text-align: right;\n",
       "    }\n",
       "</style>\n",
       "<table border=\"1\" class=\"dataframe\">\n",
       "  <thead>\n",
       "    <tr style=\"text-align: right;\">\n",
       "      <th></th>\n",
       "      <th>Project</th>\n",
       "      <th>Owner</th>\n",
       "      <th>Manager</th>\n",
       "      <th>Category</th>\n",
       "      <th>Key</th>\n",
       "      <th>Priority</th>\n",
       "      <th>Status</th>\n",
       "      <th>Reporter</th>\n",
       "      <th>Assignee</th>\n",
       "      <th>Components</th>\n",
       "      <th>...</th>\n",
       "      <th>AffectsVersions</th>\n",
       "      <th>FixVersions</th>\n",
       "      <th>NoComments</th>\n",
       "      <th>FirstCommentDate</th>\n",
       "      <th>LastCommentDate</th>\n",
       "      <th>NoWatchers</th>\n",
       "      <th>NoAttachments</th>\n",
       "      <th>FirstAttachmentDate</th>\n",
       "      <th>LastAttachmentDate</th>\n",
       "      <th>NoAttachedPatches</th>\n",
       "    </tr>\n",
       "  </thead>\n",
       "  <tbody>\n",
       "    <tr>\n",
       "      <th>0</th>\n",
       "      <td>DERBY</td>\n",
       "      <td>ASF</td>\n",
       "      <td>Apache DB Committee</td>\n",
       "      <td>database</td>\n",
       "      <td>DERBY-4001</td>\n",
       "      <td>Minor</td>\n",
       "      <td>Closed</td>\n",
       "      <td>viyer</td>\n",
       "      <td>knutanders</td>\n",
       "      <td>SQL</td>\n",
       "      <td>...</td>\n",
       "      <td>10.3.2.1</td>\n",
       "      <td>10.6.1.0 10.5.2.0</td>\n",
       "      <td>17</td>\n",
       "      <td>2009-01-05T10:13:54.685+0000</td>\n",
       "      <td>2009-04-28T11:43:51.666+0000</td>\n",
       "      <td>0</td>\n",
       "      <td>3</td>\n",
       "      <td>2009-04-14T13:36:00.721+0000</td>\n",
       "      <td>2009-04-21T13:30:44.424+0000</td>\n",
       "      <td>0</td>\n",
       "    </tr>\n",
       "    <tr>\n",
       "      <th>1</th>\n",
       "      <td>DERBY</td>\n",
       "      <td>ASF</td>\n",
       "      <td>Apache DB Committee</td>\n",
       "      <td>database</td>\n",
       "      <td>DERBY-4006</td>\n",
       "      <td>Major</td>\n",
       "      <td>Closed</td>\n",
       "      <td>knutanders</td>\n",
       "      <td>bryanpendleton</td>\n",
       "      <td>SQL</td>\n",
       "      <td>...</td>\n",
       "      <td>10.4.2.0 10.4.1.3 10.3.3.0 10.3.2.1 10.3.1.4 1...</td>\n",
       "      <td>10.5.1.1 10.4.2.1</td>\n",
       "      <td>20</td>\n",
       "      <td>2009-01-08T12:04:43.214+0000</td>\n",
       "      <td>2009-01-19T18:09:38.280+0000</td>\n",
       "      <td>0</td>\n",
       "      <td>4</td>\n",
       "      <td>2009-01-08T17:06:09.484+0000</td>\n",
       "      <td>2009-01-12T18:09:04.118+0000</td>\n",
       "      <td>1</td>\n",
       "    </tr>\n",
       "    <tr>\n",
       "      <th>2</th>\n",
       "      <td>DERBY</td>\n",
       "      <td>ASF</td>\n",
       "      <td>Apache DB Committee</td>\n",
       "      <td>database</td>\n",
       "      <td>DERBY-4012</td>\n",
       "      <td>Major</td>\n",
       "      <td>Closed</td>\n",
       "      <td>olesolberg</td>\n",
       "      <td>kristwaa</td>\n",
       "      <td>Test</td>\n",
       "      <td>...</td>\n",
       "      <td>10.5.1.1</td>\n",
       "      <td>10.5.1.1</td>\n",
       "      <td>3</td>\n",
       "      <td>2009-01-09T13:38:33.741+0000</td>\n",
       "      <td>2009-01-12T18:40:23.920+0000</td>\n",
       "      <td>0</td>\n",
       "      <td>1</td>\n",
       "      <td>2009-01-09T13:49:18.722+0000</td>\n",
       "      <td>2009-01-09T13:49:18.722+0000</td>\n",
       "      <td>0</td>\n",
       "    </tr>\n",
       "    <tr>\n",
       "      <th>3</th>\n",
       "      <td>DERBY</td>\n",
       "      <td>ASF</td>\n",
       "      <td>Apache DB Committee</td>\n",
       "      <td>database</td>\n",
       "      <td>DERBY-4018</td>\n",
       "      <td>Major</td>\n",
       "      <td>Closed</td>\n",
       "      <td>clary2137</td>\n",
       "      <td>knutanders</td>\n",
       "      <td>Services</td>\n",
       "      <td>...</td>\n",
       "      <td>10.4.2.0</td>\n",
       "      <td>10.6.1.0 10.5.2.0</td>\n",
       "      <td>11</td>\n",
       "      <td>2009-01-13T14:48:07.608+0000</td>\n",
       "      <td>2009-07-01T22:29:01.488+0000</td>\n",
       "      <td>0</td>\n",
       "      <td>6</td>\n",
       "      <td>2009-01-13T14:48:07.571+0000</td>\n",
       "      <td>2009-06-29T15:14:16.076+0000</td>\n",
       "      <td>0</td>\n",
       "    </tr>\n",
       "    <tr>\n",
       "      <th>4</th>\n",
       "      <td>DERBY</td>\n",
       "      <td>ASF</td>\n",
       "      <td>Apache DB Committee</td>\n",
       "      <td>database</td>\n",
       "      <td>DERBY-4025</td>\n",
       "      <td>Major</td>\n",
       "      <td>Closed</td>\n",
       "      <td>kristwaa</td>\n",
       "      <td>chaase3</td>\n",
       "      <td>Documentation</td>\n",
       "      <td>...</td>\n",
       "      <td>10.5.1.1</td>\n",
       "      <td>10.5.1.1</td>\n",
       "      <td>7</td>\n",
       "      <td>2009-01-21T21:48:15.873+0000</td>\n",
       "      <td>2009-01-26T08:11:57.250+0000</td>\n",
       "      <td>0</td>\n",
       "      <td>4</td>\n",
       "      <td>2009-01-21T21:48:15.835+0000</td>\n",
       "      <td>2009-01-22T21:38:38.600+0000</td>\n",
       "      <td>0</td>\n",
       "    </tr>\n",
       "  </tbody>\n",
       "</table>\n",
       "<p>5 rows × 25 columns</p>\n",
       "</div>"
      ],
      "text/plain": [
       "  Project Owner              Manager  Category         Key Priority  Status  \\\n",
       "0   DERBY   ASF  Apache DB Committee  database  DERBY-4001    Minor  Closed   \n",
       "1   DERBY   ASF  Apache DB Committee  database  DERBY-4006    Major  Closed   \n",
       "2   DERBY   ASF  Apache DB Committee  database  DERBY-4012    Major  Closed   \n",
       "3   DERBY   ASF  Apache DB Committee  database  DERBY-4018    Major  Closed   \n",
       "4   DERBY   ASF  Apache DB Committee  database  DERBY-4025    Major  Closed   \n",
       "\n",
       "     Reporter        Assignee     Components  ...  \\\n",
       "0       viyer      knutanders            SQL  ...   \n",
       "1  knutanders  bryanpendleton            SQL  ...   \n",
       "2  olesolberg        kristwaa           Test  ...   \n",
       "3   clary2137      knutanders       Services  ...   \n",
       "4    kristwaa         chaase3  Documentation  ...   \n",
       "\n",
       "                                     AffectsVersions        FixVersions  \\\n",
       "0                                           10.3.2.1  10.6.1.0 10.5.2.0   \n",
       "1  10.4.2.0 10.4.1.3 10.3.3.0 10.3.2.1 10.3.1.4 1...  10.5.1.1 10.4.2.1   \n",
       "2                                           10.5.1.1           10.5.1.1   \n",
       "3                                           10.4.2.0  10.6.1.0 10.5.2.0   \n",
       "4                                           10.5.1.1           10.5.1.1   \n",
       "\n",
       "  NoComments              FirstCommentDate               LastCommentDate  \\\n",
       "0         17  2009-01-05T10:13:54.685+0000  2009-04-28T11:43:51.666+0000   \n",
       "1         20  2009-01-08T12:04:43.214+0000  2009-01-19T18:09:38.280+0000   \n",
       "2          3  2009-01-09T13:38:33.741+0000  2009-01-12T18:40:23.920+0000   \n",
       "3         11  2009-01-13T14:48:07.608+0000  2009-07-01T22:29:01.488+0000   \n",
       "4          7  2009-01-21T21:48:15.873+0000  2009-01-26T08:11:57.250+0000   \n",
       "\n",
       "  NoWatchers NoAttachments           FirstAttachmentDate  \\\n",
       "0          0             3  2009-04-14T13:36:00.721+0000   \n",
       "1          0             4  2009-01-08T17:06:09.484+0000   \n",
       "2          0             1  2009-01-09T13:49:18.722+0000   \n",
       "3          0             6  2009-01-13T14:48:07.571+0000   \n",
       "4          0             4  2009-01-21T21:48:15.835+0000   \n",
       "\n",
       "             LastAttachmentDate NoAttachedPatches  \n",
       "0  2009-04-21T13:30:44.424+0000                 0  \n",
       "1  2009-01-12T18:09:04.118+0000                 1  \n",
       "2  2009-01-09T13:49:18.722+0000                 0  \n",
       "3  2009-06-29T15:14:16.076+0000                 0  \n",
       "4  2009-01-22T21:38:38.600+0000                 0  \n",
       "\n",
       "[5 rows x 25 columns]"
      ]
     },
     "execution_count": 6,
     "metadata": {},
     "output_type": "execute_result"
    }
   ],
   "source": [
    "df.head()"
   ]
  },
  {
   "cell_type": "code",
   "execution_count": 7,
   "metadata": {
    "colab": {
     "base_uri": "https://localhost:8080/"
    },
    "id": "uqDrQCJ0cWNI",
    "outputId": "58286dfd-bb22-4f3f-88be-6c5f31cdbb8f"
   },
   "outputs": [
    {
     "name": "stdout",
     "output_type": "stream",
     "text": [
      "<class 'pandas.core.frame.DataFrame'>\n",
      "RangeIndex: 1083 entries, 0 to 1082\n",
      "Data columns (total 25 columns):\n",
      " #   Column               Non-Null Count  Dtype \n",
      "---  ------               --------------  ----- \n",
      " 0   Project              1083 non-null   object\n",
      " 1   Owner                1083 non-null   object\n",
      " 2   Manager              1083 non-null   object\n",
      " 3   Category             1083 non-null   object\n",
      " 4   Key                  1083 non-null   object\n",
      " 5   Priority             1083 non-null   object\n",
      " 6   Status               1083 non-null   object\n",
      " 7   Reporter             1083 non-null   object\n",
      " 8   Assignee             1029 non-null   object\n",
      " 9   Components           1071 non-null   object\n",
      " 10  SummaryTopWords      1073 non-null   object\n",
      " 11  DescriptionTopWords  1079 non-null   object\n",
      " 12  CommentsTopWords     1081 non-null   object\n",
      " 13  CreationDate         1083 non-null   object\n",
      " 14  ResolutionDate       1083 non-null   object\n",
      " 15  AffectsVersions      994 non-null    object\n",
      " 16  FixVersions          1059 non-null   object\n",
      " 17  NoComments           1083 non-null   int64 \n",
      " 18  FirstCommentDate     1081 non-null   object\n",
      " 19  LastCommentDate      1081 non-null   object\n",
      " 20  NoWatchers           1083 non-null   int64 \n",
      " 21  NoAttachments        1083 non-null   int64 \n",
      " 22  FirstAttachmentDate  983 non-null    object\n",
      " 23  LastAttachmentDate   983 non-null    object\n",
      " 24  NoAttachedPatches    1083 non-null   int64 \n",
      "dtypes: int64(4), object(21)\n",
      "memory usage: 211.7+ KB\n"
     ]
    }
   ],
   "source": [
    "#printing the summary of the dataset for better understanding\n",
    "df.info()"
   ]
  },
  {
   "cell_type": "code",
   "execution_count": 8,
   "metadata": {
    "colab": {
     "base_uri": "https://localhost:8080/",
     "height": 858
    },
    "id": "W48g9QeicSO8",
    "outputId": "041cffb5-994a-4d7c-e5bb-3cccb2ee6754"
   },
   "outputs": [
    {
     "data": {
      "text/plain": [
       "Project                  0\n",
       "Owner                    0\n",
       "Manager                  0\n",
       "Category                 0\n",
       "Key                      0\n",
       "Priority                 0\n",
       "Status                   0\n",
       "Reporter                 0\n",
       "Assignee                54\n",
       "Components              12\n",
       "SummaryTopWords         10\n",
       "DescriptionTopWords      4\n",
       "CommentsTopWords         2\n",
       "CreationDate             0\n",
       "ResolutionDate           0\n",
       "AffectsVersions         89\n",
       "FixVersions             24\n",
       "NoComments               0\n",
       "FirstCommentDate         2\n",
       "LastCommentDate          2\n",
       "NoWatchers               0\n",
       "NoAttachments            0\n",
       "FirstAttachmentDate    100\n",
       "LastAttachmentDate     100\n",
       "NoAttachedPatches        0\n",
       "dtype: int64"
      ]
     },
     "execution_count": 8,
     "metadata": {},
     "output_type": "execute_result"
    }
   ],
   "source": [
    "#checking for number of null values in each column\n",
    "df.isnull().sum()"
   ]
  },
  {
   "cell_type": "code",
   "execution_count": 9,
   "metadata": {
    "colab": {
     "base_uri": "https://localhost:8080/"
    },
    "id": "pnJBZjOpbruk",
    "outputId": "2292a156-b39a-422a-bd07-fa24cc02aa32"
   },
   "outputs": [],
   "source": [
    "#filling missing values with the values of previous row using fillna function\n",
    "df = df.ffill()"
   ]
  },
  {
   "cell_type": "code",
   "execution_count": 10,
   "metadata": {
    "colab": {
     "base_uri": "https://localhost:8080/",
     "height": 858
    },
    "id": "8hmljGqBdFYM",
    "outputId": "2c373fd6-b15a-43f0-922c-d6ad37d18882"
   },
   "outputs": [
    {
     "data": {
      "text/plain": [
       "Project                0\n",
       "Owner                  0\n",
       "Manager                0\n",
       "Category               0\n",
       "Key                    0\n",
       "Priority               0\n",
       "Status                 0\n",
       "Reporter               0\n",
       "Assignee               0\n",
       "Components             0\n",
       "SummaryTopWords        0\n",
       "DescriptionTopWords    0\n",
       "CommentsTopWords       0\n",
       "CreationDate           0\n",
       "ResolutionDate         0\n",
       "AffectsVersions        0\n",
       "FixVersions            0\n",
       "NoComments             0\n",
       "FirstCommentDate       0\n",
       "LastCommentDate        0\n",
       "NoWatchers             0\n",
       "NoAttachments          0\n",
       "FirstAttachmentDate    0\n",
       "LastAttachmentDate     0\n",
       "NoAttachedPatches      0\n",
       "dtype: int64"
      ]
     },
     "execution_count": 10,
     "metadata": {},
     "output_type": "execute_result"
    }
   ],
   "source": [
    "#again checking null values sum after filling null values\n",
    "df.isnull().sum()"
   ]
  },
  {
   "cell_type": "code",
   "execution_count": 11,
   "metadata": {
    "id": "w23QvhsgeAxV"
   },
   "outputs": [],
   "source": [
    "# Converting the categorical variables to numeric using LabelEncoder\n",
    "le = LabelEncoder()\n",
    "categorical_cols = df.select_dtypes(include=['object']).columns\n",
    "for col in categorical_cols:\n",
    "    df[col] = le.fit_transform(df[col])\n"
   ]
  },
  {
   "cell_type": "code",
   "execution_count": 12,
   "metadata": {
    "colab": {
     "base_uri": "https://localhost:8080/"
    },
    "id": "jzCzWPdweHKt",
    "outputId": "d2546ca9-3b25-4b8a-f3ad-5940a987eeb6"
   },
   "outputs": [
    {
     "name": "stdout",
     "output_type": "stream",
     "text": [
      "<class 'pandas.core.frame.DataFrame'>\n",
      "RangeIndex: 1083 entries, 0 to 1082\n",
      "Data columns (total 25 columns):\n",
      " #   Column               Non-Null Count  Dtype\n",
      "---  ------               --------------  -----\n",
      " 0   Project              1083 non-null   int32\n",
      " 1   Owner                1083 non-null   int32\n",
      " 2   Manager              1083 non-null   int32\n",
      " 3   Category             1083 non-null   int32\n",
      " 4   Key                  1083 non-null   int32\n",
      " 5   Priority             1083 non-null   int32\n",
      " 6   Status               1083 non-null   int32\n",
      " 7   Reporter             1083 non-null   int32\n",
      " 8   Assignee             1083 non-null   int32\n",
      " 9   Components           1083 non-null   int32\n",
      " 10  SummaryTopWords      1083 non-null   int32\n",
      " 11  DescriptionTopWords  1083 non-null   int32\n",
      " 12  CommentsTopWords     1083 non-null   int32\n",
      " 13  CreationDate         1083 non-null   int32\n",
      " 14  ResolutionDate       1083 non-null   int32\n",
      " 15  AffectsVersions      1083 non-null   int32\n",
      " 16  FixVersions          1083 non-null   int32\n",
      " 17  NoComments           1083 non-null   int64\n",
      " 18  FirstCommentDate     1083 non-null   int32\n",
      " 19  LastCommentDate      1083 non-null   int32\n",
      " 20  NoWatchers           1083 non-null   int64\n",
      " 21  NoAttachments        1083 non-null   int64\n",
      " 22  FirstAttachmentDate  1083 non-null   int32\n",
      " 23  LastAttachmentDate   1083 non-null   int32\n",
      " 24  NoAttachedPatches    1083 non-null   int64\n",
      "dtypes: int32(21), int64(4)\n",
      "memory usage: 122.8 KB\n"
     ]
    }
   ],
   "source": [
    "#checking if values are converted to numeric\n",
    "df.info()"
   ]
  },
  {
   "cell_type": "code",
   "execution_count": 13,
   "metadata": {
    "id": "WNfNnm4dePdt"
   },
   "outputs": [],
   "source": [
    "# Define target and features\n",
    "target_col = 'Priority'\n",
    "X = df.drop(columns=[target_col])\n",
    "y = df[target_col]"
   ]
  },
  {
   "cell_type": "code",
   "execution_count": 14,
   "metadata": {},
   "outputs": [
    {
     "name": "stdout",
     "output_type": "stream",
     "text": [
      "Applying SMOTE to balance the dataset...\n",
      "Scaling features...\n"
     ]
    }
   ],
   "source": [
    "# Handle class imbalance using SMOTE\n",
    "print(\"Applying SMOTE to balance the dataset...\")\n",
    "smote = SMOTE(random_state=42)\n",
    "X_resampled, y_resampled = smote.fit_resample(X, y)\n",
    "\n",
    "# Scale features\n",
    "print(\"Scaling features...\")\n",
    "scaler = StandardScaler()\n",
    "X_resampled_scaled = scaler.fit_transform(X_resampled)"
   ]
  },
  {
   "cell_type": "code",
   "execution_count": 16,
   "metadata": {
    "id": "Z-c26oEFfxlp"
   },
   "outputs": [],
   "source": [
    "# splitting train test sets\n",
    "X_train, X_test, y_train, y_test = train_test_split(X_resampled_scaled, y_resampled, test_size=0.3, random_state=42)"
   ]
  },
  {
   "cell_type": "code",
   "execution_count": 17,
   "metadata": {
    "colab": {
     "base_uri": "https://localhost:8080/",
     "height": 472
    },
    "id": "2kJ5qkRKgBh9",
    "outputId": "cc946bc4-6811-4532-87d6-f736bd5ac38f"
   },
   "outputs": [
    {
     "data": {
      "image/png": "[encoded data removed]",
      "text/plain": [
       "<Figure size 640x480 with 1 Axes>"
      ]
     },
     "metadata": {},
     "output_type": "display_data"
    }
   ],
   "source": [
    "# Data visualization\n",
    "# Ploting target distribution\n",
    "sns.countplot(x=target_col, data=df)\n",
    "plt.title(\"Target Distribution\")\n",
    "plt.show()\n"
   ]
  },
  {
   "cell_type": "code",
   "execution_count": 18,
   "metadata": {
    "colab": {
     "base_uri": "https://localhost:8080/",
     "height": 509
    },
    "id": "V-OwrwzYgjDC",
    "outputId": "222e1d77-a543-4634-dc9b-cab83ee00b2e"
   },
   "outputs": [
    {
     "data": {
      "image/png": "[encoded data removed]",
      "text/plain": [
       "<Figure size 1200x800 with 2 Axes>"
      ]
     },
     "metadata": {},
     "output_type": "display_data"
    }
   ],
   "source": [
    "# Heatmap for correlations of columns\n",
    "plt.figure(figsize=(12, 8))\n",
    "sns.heatmap(df.corr(), annot=False, cmap='coolwarm', linewidths=0.5)\n",
    "plt.title(\"Feature Correlation Heatmap\")\n",
    "plt.show()"
   ]
  },
  {
   "cell_type": "code",
   "execution_count": 19,
   "metadata": {
    "colab": {
     "base_uri": "https://localhost:8080/"
    },
    "id": "ifEqtJ5chFmQ",
    "outputId": "894eb7d2-a260-4116-c0a7-3866430cb50a"
   },
   "outputs": [
    {
     "name": "stdout",
     "output_type": "stream",
     "text": [
      "Removed constant features. Remaining features: 19\n",
      "Selected Features: Index(['Key', 'Reporter', 'Assignee', 'Components', 'CreationDate',\n",
      "       'NoComments', 'FirstCommentDate', 'LastCommentDate',\n",
      "       'FirstAttachmentDate', 'LastAttachmentDate'],\n",
      "      dtype='object')\n"
     ]
    }
   ],
   "source": [
    "#Remove constant features\n",
    "constant_filter = VarianceThreshold(threshold=0.0)\n",
    "X_filtered = pd.DataFrame(constant_filter.fit_transform(X), columns=X.columns[constant_filter.get_support()])\n",
    "print(f\"Removed constant features. Remaining features: {X_filtered.shape[1]}\")\n",
    "\n",
    "\n",
    "# Feature engineering\n",
    "# Select top K features\n",
    "k = 10  # Number of features to select\n",
    "selector = SelectKBest(score_func=f_classif, k=k)\n",
    "selector.fit(X_filtered, y)\n",
    "\n",
    "# Get the selected feature names\n",
    "selected_indices = selector.get_support(indices=True)\n",
    "selected_features = X_filtered.columns[selected_indices]\n",
    "print(\"Selected Features:\", selected_features)"
   ]
  },
  {
   "cell_type": "code",
   "execution_count": 20,
   "metadata": {
    "id": "42yo0DREjXUH"
   },
   "outputs": [],
   "source": [
    "# models to try\n",
    "models = {\n",
    "    \"Logistic Regression\": LogisticRegression(max_iter=1000, random_state=42),\n",
    "    \"Random Forest\": RandomForestClassifier(n_estimators=100, random_state=42),\n",
    "    \"Decision Tree\": DecisionTreeClassifier(random_state=42),\n",
    "    \"Support Vector Machine\": SVC(kernel='linear', random_state=42)\n",
    "}"
   ]
  },
  {
   "cell_type": "code",
   "execution_count": 21,
   "metadata": {
    "id": "eO-SNmX8jfNl"
   },
   "outputs": [],
   "source": [
    " # Dictionary to store evaluation metrics\n",
    "metrics = {\n",
    "    \"Model\": [],\n",
    "    \"Accuracy\": [],\n",
    "    \"F1 Score\": [],\n",
    "    \"Recall\": [],\n",
    "    \"Precision\": []\n",
    "}"
   ]
  },
  {
   "cell_type": "code",
   "execution_count": 22,
   "metadata": {
    "id": "xIv6QV0njqJV"
   },
   "outputs": [],
   "source": [
    "# Train and evaluate models\n",
    "best_model = None\n",
    "best_f1_score = 0\n"
   ]
  },
  {
   "cell_type": "code",
   "execution_count": 23,
   "metadata": {
    "colab": {
     "base_uri": "https://localhost:8080/"
    },
    "id": "oU47ulR7jsbr",
    "outputId": "28a3f190-3fc8-4494-9761-b667d78d4ec1"
   },
   "outputs": [],
   "source": [
    "for name, model in models.items():\n",
    "    # Train the model\n",
    "    model.fit(X_train, y_train)\n",
    "    # Predict on test data\n",
    "    y_pred = model.predict(X_test)\n",
    "\n",
    "    # Calculate metrics\n",
    "    accuracy = accuracy_score(y_test, y_pred) * 100\n",
    "    f1 = f1_score(y_test, y_pred, average='weighted')\n",
    "    recall = recall_score(y_test, y_pred, average='weighted')\n",
    "    precision = precision_score(y_test, y_pred, average='weighted')\n",
    "\n",
    "    # Store metrics\n",
    "    metrics[\"Model\"].append(name)\n",
    "    metrics[\"Accuracy\"].append(accuracy)\n",
    "    metrics[\"F1 Score\"].append(f1)\n",
    "    metrics[\"Recall\"].append(recall)\n",
    "    metrics[\"Precision\"].append(precision)\n",
    "\n",
    "    # Update best model\n",
    "    if f1 > best_f1_score:\n",
    "        best_f1_score = f1\n",
    "        best_model = (name, model)\n"
   ]
  },
  {
   "cell_type": "code",
   "execution_count": 24,
   "metadata": {
    "colab": {
     "base_uri": "https://localhost:8080/"
    },
    "id": "L0qFPaTajyyN",
    "outputId": "aaec1bc0-223f-4f0d-f119-c35e7a78d06c"
   },
   "outputs": [
    {
     "name": "stdout",
     "output_type": "stream",
     "text": [
      "Model Performance:\n",
      "                    Model   Accuracy  F1 Score    Recall  Precision\n",
      "0     Logistic Regression  54.969749  0.543163  0.549697   0.546485\n",
      "1           Random Forest  91.702679  0.915936  0.917027   0.915374\n",
      "2           Decision Tree  83.837511  0.836117  0.838375   0.835229\n",
      "3  Support Vector Machine  61.797753  0.600138  0.617978   0.615525\n"
     ]
    }
   ],
   "source": [
    "# Convert metrics to a DataFrame for better visualization\n",
    "metrics_df = pd.DataFrame(metrics)\n",
    "print(\"Model Performance:\")\n",
    "print(metrics_df)\n",
    "\n"
   ]
  },
  {
   "cell_type": "code",
   "execution_count": 25,
   "metadata": {
    "colab": {
     "base_uri": "https://localhost:8080/"
    },
    "id": "W9KW6zHRj9RC",
    "outputId": "4317d790-2f0f-4ac9-ed66-544a567f9198"
   },
   "outputs": [
    {
     "name": "stdout",
     "output_type": "stream",
     "text": [
      "\n",
      "Best Model: Random Forest with F1 Score: 0.915936135457852\n"
     ]
    }
   ],
   "source": [
    "# Best Model\n",
    "print(f\"\\nBest Model: {best_model[0]} with F1 Score: {best_f1_score}\")\n"
   ]
  },
  {
   "cell_type": "code",
   "execution_count": 26,
   "metadata": {
    "colab": {
     "base_uri": "https://localhost:8080/",
     "height": 547
    },
    "id": "nmFCPE00kFOr",
    "outputId": "8e3be022-6cfe-4cab-98e9-ebdf02484c91"
   },
   "outputs": [
    {
     "data": {
      "image/png": "[encoded data removed]",
      "text/plain": [
       "<Figure size 800x600 with 2 Axes>"
      ]
     },
     "metadata": {},
     "output_type": "display_data"
    }
   ],
   "source": [
    "# Confusion Matrix for the Best Model\n",
    "best_name, best_model_instance = best_model\n",
    "y_pred_best = best_model_instance.predict(X_test)\n",
    "cm = confusion_matrix(y_test, y_pred_best)\n",
    "\n",
    "# Plot the confusion matrix\n",
    "plt.figure(figsize=(8, 6))\n",
    "sns.heatmap(cm, annot=True, fmt='d', cmap='Blues', xticklabels=np.unique(y), yticklabels=np.unique(y))\n",
    "plt.title(f\"Confusion Matrix - {best_name}\")\n",
    "plt.xlabel(\"Predicted\")\n",
    "plt.ylabel(\"Actual\")\n",
    "plt.show()"
   ]
  },
  {
   "cell_type": "code",
   "execution_count": 27,
   "metadata": {
    "colab": {
     "base_uri": "https://localhost:8080/"
    },
    "id": "mS3NJJA3kXiE",
    "outputId": "b1a167ed-3a8c-4785-a967-a577cd2c1bfd"
   },
   "outputs": [
    {
     "name": "stdout",
     "output_type": "stream",
     "text": [
      "\n",
      "Classification Report:\n",
      "              precision    recall  f1-score   support\n",
      "\n",
      "           0       0.98      1.00      0.99       231\n",
      "           1       0.95      0.99      0.97       227\n",
      "           2       0.83      0.78      0.81       238\n",
      "           3       0.85      0.85      0.85       241\n",
      "           4       0.98      0.98      0.98       220\n",
      "\n",
      "    accuracy                           0.92      1157\n",
      "   macro avg       0.92      0.92      0.92      1157\n",
      "weighted avg       0.92      0.92      0.92      1157\n",
      "\n"
     ]
    }
   ],
   "source": [
    "# Classification Report for the Best Model\n",
    "print(\"\\nClassification Report:\")\n",
    "print(classification_report(y_test, y_pred_best))"
   ]
  },
  {
   "cell_type": "code",
   "execution_count": null,
   "metadata": {},
   "outputs": [],
   "source": []
  }
 ],
 "metadata": {
  "colab": {
   "provenance": []
  },
  "kernelspec": {
   "display_name": "Python 3 (ipykernel)",
   "language": "python",
   "name": "python3"
  },
  "language_info": {
   "codemirror_mode": {
    "name": "ipython",
    "version": 3
   },
   "file_extension": ".py",
   "mimetype": "text/x-python",
   "name": "python",
   "nbconvert_exporter": "python",
   "pygments_lexer": "ipython3",
   "version": "3.12.4"
  }
 },
 "nbformat": 4,
 "nbformat_minor": 4
}
